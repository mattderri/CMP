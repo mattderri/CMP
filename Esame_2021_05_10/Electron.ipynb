{
  "nbformat": 4,
  "nbformat_minor": 0,
  "metadata": {
    "colab": {
      "name": "Electron.ipynb",
      "provenance": [],
      "authorship_tag": "ABX9TyO/D+6sjKz8DVXVoc0jYEM1",
      "include_colab_link": true
    },
    "kernelspec": {
      "name": "python3",
      "display_name": "Python 3"
    },
    "language_info": {
      "name": "python"
    }
  },
  "cells": [
    {
      "cell_type": "markdown",
      "metadata": {
        "id": "view-in-github",
        "colab_type": "text"
      },
      "source": [
        "<a href=\"https://colab.research.google.com/github/mattderri/CMP/blob/main/Electron.ipynb\" target=\"_parent\"><img src=\"https://colab.research.google.com/assets/colab-badge.svg\" alt=\"Open In Colab\"/></a>"
      ]
    },
    {
      "cell_type": "code",
      "execution_count": 25,
      "metadata": {
        "id": "BilmkEfs7sE4"
      },
      "outputs": [],
      "source": [
        "%matplotlib inline\n",
        "\n",
        "import matplotlib.pyplot as plt\n",
        "import numpy as np\n",
        "import pandas as pd"
      ]
    },
    {
      "cell_type": "code",
      "source": [
        "from google.colab import drive\n",
        "drive.mount('/content/drive')"
      ],
      "metadata": {
        "colab": {
          "base_uri": "https://localhost:8080/"
        },
        "id": "HOVMo0hI76zu",
        "outputId": "3fc2078c-6588-4301-bfaf-6713c94db789"
      },
      "execution_count": null,
      "outputs": [
        {
          "output_type": "stream",
          "name": "stdout",
          "text": [
            "Mounted at /content/drive\n"
          ]
        }
      ]
    },
    {
      "cell_type": "code",
      "source": [
        "electron_10MeV=\"/content/10MeV.dat\"\n",
        "electron_1GeV=\"/content/1GeV.dat\"\n",
        "electron_100GeV=\"/content/100GeV.dat\""
      ],
      "metadata": {
        "id": "hC8JmzhE8JV0"
      },
      "execution_count": 54,
      "outputs": []
    },
    {
      "cell_type": "code",
      "source": [
        "electron10=pd.read_csv(electron_10MeV,sep='\\t')\n",
        "electron1=pd.read_csv(electron_1GeV,sep='\\t')\n",
        "electron100=pd.read_csv(electron_100GeV,sep='\\t')"
      ],
      "metadata": {
        "id": "jCB4DF7j8Vtp"
      },
      "execution_count": 55,
      "outputs": []
    },
    {
      "cell_type": "code",
      "source": [
        "plt.figure(figsize=(14,8))\n",
        "plt.grid()\n",
        "bin=200\n",
        "\n",
        "binned_data,bins,_=plt.hist(electron10['x'].values,bins=bin,histtype='step',log=False,color='blue',label='10MeV')\n",
        "binned_data,bins,_=plt.hist(electron1['x'].values,bins=bin,histtype='step',log=False,color='green',label='1GeV')\n",
        "binned_data,bins,_=plt.hist(electron100['x'].values,bins=bin,histtype='step',log=False,color='red',label='100GeV')\n",
        "\n",
        "plt.xlabel(\"x [cm]\",fontsize=16)\n",
        "plt.ylabel(\"Eventi\",fontsize=16)\n",
        "plt.title(\"Penetrazione nel piombo per elettroni di diversa energia\",fontsize=18)\n",
        "plt.legend(loc=1, prop={'size': 14})"
      ],
      "metadata": {
        "colab": {
          "base_uri": "https://localhost:8080/",
          "height": 539
        },
        "id": "njaeVFb28zdR",
        "outputId": "c33ad072-7d19-4011-e915-2ad65dcec337"
      },
      "execution_count": 88,
      "outputs": [
        {
          "output_type": "execute_result",
          "data": {
            "text/plain": [
              "<matplotlib.legend.Legend at 0x7fe1974b8d50>"
            ]
          },
          "metadata": {},
          "execution_count": 88
        },
        {
          "output_type": "display_data",
          "data": {
            "image/png": "[encoded data removed]",
            "text/plain": [
              "<Figure size 1008x576 with 1 Axes>"
            ]
          },
          "metadata": {
            "needs_background": "light"
          }
        }
      ]
    }
  ]
}
