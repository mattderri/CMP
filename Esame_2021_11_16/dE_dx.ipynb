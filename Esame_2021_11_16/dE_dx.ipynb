{
  "nbformat": 4,
  "nbformat_minor": 0,
  "metadata": {
    "colab": {
      "name": "dE/dx.ipynb",
      "provenance": [],
      "authorship_tag": "ABX9TyO/yK6gcEG0EkcV/IXKyAsj",
      "include_colab_link": true
    },
    "kernelspec": {
      "name": "python3",
      "display_name": "Python 3"
    },
    "language_info": {
      "name": "python"
    }
  },
  "cells": [
    {
      "cell_type": "markdown",
      "metadata": {
        "id": "view-in-github",
        "colab_type": "text"
      },
      "source": [
        "<a href=\"https://colab.research.google.com/github/mattderri/CMP/blob/main/dE_dx.ipynb\" target=\"_parent\"><img src=\"https://colab.research.google.com/assets/colab-badge.svg\" alt=\"Open In Colab\"/></a>"
      ]
    },
    {
      "cell_type": "code",
      "execution_count": 1,
      "metadata": {
        "id": "Iusx_kxBTzk_"
      },
      "outputs": [],
      "source": [
        "%matplotlib inline\n",
        "\n",
        "import matplotlib.pyplot as plt\n",
        "import numpy as np\n",
        "import pandas as pd"
      ]
    },
    {
      "cell_type": "code",
      "source": [
        "from google.colab import drive\n",
        "drive.mount('/content/drive')"
      ],
      "metadata": {
        "colab": {
          "base_uri": "https://localhost:8080/"
        },
        "id": "BgFp565kUqVV",
        "outputId": "816a3d41-33b5-4782-cc86-e1e7ca7c65a0"
      },
      "execution_count": 33,
      "outputs": [
        {
          "output_type": "stream",
          "name": "stdout",
          "text": [
            "Drive already mounted at /content/drive; to attempt to forcibly remount, call drive.mount(\"/content/drive\", force_remount=True).\n"
          ]
        }
      ]
    },
    {
      "cell_type": "code",
      "source": [
        "proton_loss=\"/content/drive/My Drive/Colab Notebooks/CMP/Proton_loss.dat\"\n",
        "alpha_loss=\"/content/drive/My Drive/Colab Notebooks/CMP/Alpha_loss.dat\""
      ],
      "metadata": {
        "id": "q-AZ4NoTVTiK"
      },
      "execution_count": 34,
      "outputs": []
    },
    {
      "cell_type": "code",
      "source": [
        "proton=pd.read_csv(proton_loss,sep='\\t')\n",
        "alpha=pd.read_csv(alpha_loss,sep='\\t')"
      ],
      "metadata": {
        "id": "jwhBnM10VXsy"
      },
      "execution_count": 35,
      "outputs": []
    },
    {
      "cell_type": "code",
      "source": [
        "alpha"
      ],
      "metadata": {
        "colab": {
          "base_uri": "https://localhost:8080/",
          "height": 489
        },
        "id": "nijuHnweVf2N",
        "outputId": "eba31b4a-1143-4f02-f371-0b9c96350f91"
      },
      "execution_count": 36,
      "outputs": [
        {
          "output_type": "execute_result",
          "data": {
            "text/html": [
              "\n",
              "  <div id=\"df-ca2f97bf-b9eb-40fe-9f20-024ccdf4574d\">\n",
              "    <div class=\"colab-df-container\">\n",
              "      <div>\n",
              "<style scoped>\n",
              "    .dataframe tbody tr th:only-of-type {\n",
              "        vertical-align: middle;\n",
              "    }\n",
              "\n",
              "    .dataframe tbody tr th {\n",
              "        vertical-align: top;\n",
              "    }\n",
              "\n",
              "    .dataframe thead th {\n",
              "        text-align: right;\n",
              "    }\n",
              "</style>\n",
              "<table border=\"1\" class=\"dataframe\">\n",
              "  <thead>\n",
              "    <tr style=\"text-align: right;\">\n",
              "      <th></th>\n",
              "      <th>dE/dx</th>\n",
              "      <th>x</th>\n",
              "      <th>p</th>\n",
              "      <th>betagamma</th>\n",
              "    </tr>\n",
              "  </thead>\n",
              "  <tbody>\n",
              "    <tr>\n",
              "      <th>0</th>\n",
              "      <td>62.289</td>\n",
              "      <td>0.001</td>\n",
              "      <td>9.933</td>\n",
              "      <td>2.663</td>\n",
              "    </tr>\n",
              "    <tr>\n",
              "      <th>1</th>\n",
              "      <td>62.315</td>\n",
              "      <td>0.002</td>\n",
              "      <td>9.800</td>\n",
              "      <td>2.627</td>\n",
              "    </tr>\n",
              "    <tr>\n",
              "      <th>2</th>\n",
              "      <td>62.372</td>\n",
              "      <td>0.003</td>\n",
              "      <td>9.600</td>\n",
              "      <td>2.574</td>\n",
              "    </tr>\n",
              "    <tr>\n",
              "      <th>3</th>\n",
              "      <td>62.469</td>\n",
              "      <td>0.004</td>\n",
              "      <td>9.331</td>\n",
              "      <td>2.502</td>\n",
              "    </tr>\n",
              "    <tr>\n",
              "      <th>4</th>\n",
              "      <td>62.622</td>\n",
              "      <td>0.005</td>\n",
              "      <td>8.993</td>\n",
              "      <td>2.411</td>\n",
              "    </tr>\n",
              "    <tr>\n",
              "      <th>5</th>\n",
              "      <td>62.858</td>\n",
              "      <td>0.006</td>\n",
              "      <td>8.583</td>\n",
              "      <td>2.301</td>\n",
              "    </tr>\n",
              "    <tr>\n",
              "      <th>6</th>\n",
              "      <td>63.220</td>\n",
              "      <td>0.007</td>\n",
              "      <td>8.099</td>\n",
              "      <td>2.171</td>\n",
              "    </tr>\n",
              "    <tr>\n",
              "      <th>7</th>\n",
              "      <td>63.780</td>\n",
              "      <td>0.008</td>\n",
              "      <td>7.533</td>\n",
              "      <td>2.020</td>\n",
              "    </tr>\n",
              "    <tr>\n",
              "      <th>8</th>\n",
              "      <td>64.663</td>\n",
              "      <td>0.009</td>\n",
              "      <td>6.878</td>\n",
              "      <td>1.844</td>\n",
              "    </tr>\n",
              "    <tr>\n",
              "      <th>9</th>\n",
              "      <td>66.108</td>\n",
              "      <td>0.010</td>\n",
              "      <td>6.115</td>\n",
              "      <td>1.639</td>\n",
              "    </tr>\n",
              "    <tr>\n",
              "      <th>10</th>\n",
              "      <td>68.622</td>\n",
              "      <td>0.011</td>\n",
              "      <td>5.211</td>\n",
              "      <td>1.397</td>\n",
              "    </tr>\n",
              "    <tr>\n",
              "      <th>11</th>\n",
              "      <td>73.507</td>\n",
              "      <td>0.012</td>\n",
              "      <td>4.077</td>\n",
              "      <td>1.093</td>\n",
              "    </tr>\n",
              "    <tr>\n",
              "      <th>12</th>\n",
              "      <td>85.438</td>\n",
              "      <td>0.013</td>\n",
              "      <td>2.363</td>\n",
              "      <td>0.633</td>\n",
              "    </tr>\n",
              "    <tr>\n",
              "      <th>13</th>\n",
              "      <td>146.156</td>\n",
              "      <td>0.014</td>\n",
              "      <td>0.000</td>\n",
              "      <td>0.000</td>\n",
              "    </tr>\n",
              "  </tbody>\n",
              "</table>\n",
              "</div>\n",
              "      <button class=\"colab-df-convert\" onclick=\"convertToInteractive('df-ca2f97bf-b9eb-40fe-9f20-024ccdf4574d')\"\n",
              "              title=\"Convert this dataframe to an interactive table.\"\n",
              "              style=\"display:none;\">\n",
              "        \n",
              "  <svg xmlns=\"http://www.w3.org/2000/svg\" height=\"24px\"viewBox=\"0 0 24 24\"\n",
              "       width=\"24px\">\n",
              "    <path d=\"M0 0h24v24H0V0z\" fill=\"none\"/>\n",
              "    <path d=\"M18.56 5.44l.94 2.06.94-2.06 2.06-.94-2.06-.94-.94-2.06-.94 2.06-2.06.94zm-11 1L8.5 8.5l.94-2.06 2.06-.94-2.06-.94L8.5 2.5l-.94 2.06-2.06.94zm10 10l.94 2.06.94-2.06 2.06-.94-2.06-.94-.94-2.06-.94 2.06-2.06.94z\"/><path d=\"M17.41 7.96l-1.37-1.37c-.4-.4-.92-.59-1.43-.59-.52 0-1.04.2-1.43.59L10.3 9.45l-7.72 7.72c-.78.78-.78 2.05 0 2.83L4 21.41c.39.39.9.59 1.41.59.51 0 1.02-.2 1.41-.59l7.78-7.78 2.81-2.81c.8-.78.8-2.07 0-2.86zM5.41 20L4 18.59l7.72-7.72 1.47 1.35L5.41 20z\"/>\n",
              "  </svg>\n",
              "      </button>\n",
              "      \n",
              "  <style>\n",
              "    .colab-df-container {\n",
              "      display:flex;\n",
              "      flex-wrap:wrap;\n",
              "      gap: 12px;\n",
              "    }\n",
              "\n",
              "    .colab-df-convert {\n",
              "      background-color: #E8F0FE;\n",
              "      border: none;\n",
              "      border-radius: 50%;\n",
              "      cursor: pointer;\n",
              "      display: none;\n",
              "      fill: #1967D2;\n",
              "      height: 32px;\n",
              "      padding: 0 0 0 0;\n",
              "      width: 32px;\n",
              "    }\n",
              "\n",
              "    .colab-df-convert:hover {\n",
              "      background-color: #E2EBFA;\n",
              "      box-shadow: 0px 1px 2px rgba(60, 64, 67, 0.3), 0px 1px 3px 1px rgba(60, 64, 67, 0.15);\n",
              "      fill: #174EA6;\n",
              "    }\n",
              "\n",
              "    [theme=dark] .colab-df-convert {\n",
              "      background-color: #3B4455;\n",
              "      fill: #D2E3FC;\n",
              "    }\n",
              "\n",
              "    [theme=dark] .colab-df-convert:hover {\n",
              "      background-color: #434B5C;\n",
              "      box-shadow: 0px 1px 3px 1px rgba(0, 0, 0, 0.15);\n",
              "      filter: drop-shadow(0px 1px 2px rgba(0, 0, 0, 0.3));\n",
              "      fill: #FFFFFF;\n",
              "    }\n",
              "  </style>\n",
              "\n",
              "      <script>\n",
              "        const buttonEl =\n",
              "          document.querySelector('#df-ca2f97bf-b9eb-40fe-9f20-024ccdf4574d button.colab-df-convert');\n",
              "        buttonEl.style.display =\n",
              "          google.colab.kernel.accessAllowed ? 'block' : 'none';\n",
              "\n",
              "        async function convertToInteractive(key) {\n",
              "          const element = document.querySelector('#df-ca2f97bf-b9eb-40fe-9f20-024ccdf4574d');\n",
              "          const dataTable =\n",
              "            await google.colab.kernel.invokeFunction('convertToInteractive',\n",
              "                                                     [key], {});\n",
              "          if (!dataTable) return;\n",
              "\n",
              "          const docLinkHtml = 'Like what you see? Visit the ' +\n",
              "            '<a target=\"_blank\" href=https://colab.research.google.com/notebooks/data_table.ipynb>data table notebook</a>'\n",
              "            + ' to learn more about interactive tables.';\n",
              "          element.innerHTML = '';\n",
              "          dataTable['output_type'] = 'display_data';\n",
              "          await google.colab.output.renderOutput(dataTable, element);\n",
              "          const docLink = document.createElement('div');\n",
              "          docLink.innerHTML = docLinkHtml;\n",
              "          element.appendChild(docLink);\n",
              "        }\n",
              "      </script>\n",
              "    </div>\n",
              "  </div>\n",
              "  "
            ],
            "text/plain": [
              "      dE/dx      x      p  betagamma\n",
              "0    62.289  0.001  9.933      2.663\n",
              "1    62.315  0.002  9.800      2.627\n",
              "2    62.372  0.003  9.600      2.574\n",
              "3    62.469  0.004  9.331      2.502\n",
              "4    62.622  0.005  8.993      2.411\n",
              "5    62.858  0.006  8.583      2.301\n",
              "6    63.220  0.007  8.099      2.171\n",
              "7    63.780  0.008  7.533      2.020\n",
              "8    64.663  0.009  6.878      1.844\n",
              "9    66.108  0.010  6.115      1.639\n",
              "10   68.622  0.011  5.211      1.397\n",
              "11   73.507  0.012  4.077      1.093\n",
              "12   85.438  0.013  2.363      0.633\n",
              "13  146.156  0.014  0.000      0.000"
            ]
          },
          "metadata": {},
          "execution_count": 36
        }
      ]
    },
    {
      "cell_type": "code",
      "source": [
        "plt.figure(figsize=(14,8))\n",
        "plt.grid()\n",
        "\n",
        "plt.plot(proton['x'],proton['dE/dx'].values,'-',color='red',label='Protone')\n",
        "plt.plot(alpha['x'],alpha['dE/dx'].values,'-',color='blue',label='Particella Alpha')\n",
        "\n",
        "plt.xlabel(\"x [cm]\",fontsize=18)\n",
        "plt.ylabel(\"dE/dx [MeV/cm]\",fontsize=18)\n",
        "plt.legend(loc=1, prop={'size': 16})"
      ],
      "metadata": {
        "colab": {
          "base_uri": "https://localhost:8080/",
          "height": 522
        },
        "id": "puOxCMeQY_hu",
        "outputId": "cb13580e-8fba-4350-c0bf-bca6c5e8d638"
      },
      "execution_count": 39,
      "outputs": [
        {
          "output_type": "execute_result",
          "data": {
            "text/plain": [
              "<matplotlib.legend.Legend at 0x7f8f7e64f2d0>"
            ]
          },
          "metadata": {},
          "execution_count": 39
        },
        {
          "output_type": "display_data",
          "data": {
            "image/png": "[encoded data removed]",
            "text/plain": [
              "<Figure size 1008x576 with 1 Axes>"
            ]
          },
          "metadata": {
            "needs_background": "light"
          }
        }
      ]
    },
    {
      "cell_type": "code",
      "source": [
        "plt.figure(figsize=(14,8))\n",
        "plt.grid()\n",
        "\n",
        "plt.plot(proton['betagamma'],proton['dE/dx'].values,'-',color='red',label='Protone')\n",
        "#plt.plot(alpha['betagamma'],alpha['dE/dx'].values,'-',color='blue',label='Particella Alpha')\n",
        "plt.axvline(x=3,color='black',linestyle='--')\n",
        "\n",
        "plt.xlabel(r'$\\beta\\gamma$',fontsize=18)\n",
        "plt.ylabel(\"dE/dx [MeV/cm]\",fontsize=18)\n",
        "plt.legend(loc=1, prop={'size': 16})"
      ],
      "metadata": {
        "colab": {
          "base_uri": "https://localhost:8080/",
          "height": 526
        },
        "id": "yoFQOqxyWChH",
        "outputId": "5fd45ab5-52e5-40e2-af67-b2adf989f981"
      },
      "execution_count": 51,
      "outputs": [
        {
          "output_type": "execute_result",
          "data": {
            "text/plain": [
              "<matplotlib.legend.Legend at 0x7f8f75fcbd90>"
            ]
          },
          "metadata": {},
          "execution_count": 51
        },
        {
          "output_type": "display_data",
          "data": {
            "image/png": "[encoded data removed]",
            "text/plain": [
              "<Figure size 1008x576 with 1 Axes>"
            ]
          },
          "metadata": {
            "needs_background": "light"
          }
        }
      ]
    }
  ]
}
